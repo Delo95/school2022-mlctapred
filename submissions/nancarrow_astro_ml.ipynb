{
 "cells": [
  {
   "cell_type": "code",
   "execution_count": 1,
   "metadata": {},
   "outputs": [
    {
     "name": "stdout",
     "output_type": "stream",
     "text": [
      "File escape_school_cta_data_train.h5 exists already\n",
      "File escape_school_cta_data_test_no_labels.h5 exists already\n"
     ]
    }
   ],
   "source": [
    "import ml_func as ml\n",
    "\n",
    "train_filename = \"escape_school_cta_data_train.h5\"\n",
    "ml.download_file(\"https://nextcloud.e5.physik.tu-dortmund.de/index.php/s/Kz3EbfbMAzyRHEa/download?path=%2Fparticipants&files=escape_school_cta_data_train.h5\",\n",
    "                 train_filename\n",
    "                )\n",
    "\n",
    "test_filename = \"escape_school_cta_data_test_no_labels.h5\"\n",
    "ml.download_file(\"https://nextcloud.e5.physik.tu-dortmund.de/index.php/s/Kz3EbfbMAzyRHEa/download?path=%2Fparticipants&files=escape_school_cta_data_test_no_labels.h5\",\n",
    "                 test_filename,\n",
    "                )\n",
    "                \n"
   ]
  },
  {
   "cell_type": "code",
   "execution_count": null,
   "metadata": {},
   "outputs": [],
   "source": []
  },
  {
   "cell_type": "code",
   "execution_count": null,
   "metadata": {},
   "outputs": [],
   "source": []
  },
  {
   "cell_type": "code",
   "execution_count": null,
   "metadata": {},
   "outputs": [],
   "source": []
  },
  {
   "cell_type": "code",
   "execution_count": null,
   "metadata": {},
   "outputs": [],
   "source": []
  },
  {
   "cell_type": "markdown",
   "metadata": {},
   "source": [
    "# CTA data machine learning challenge\n",
    "\n",
    "\n",
    "Notebook stolen and modified from https://github.com/tudo-astroparticlephysics/machine-learning-lecture/blob/main/smd_boosting.ipynb\n",
    "\n",
    "main author: Maximilian Nöthe\n",
    "\n",
    "additional authors: Thomas Vuillaume, Michaël Dell'aiera, Martino Sorbaro"
   ]
  },
  {
   "cell_type": "markdown",
   "metadata": {},
   "source": [
    "## The challenge\n",
    "\n",
    "In this exercise, you must train two models:\n",
    "- one classifier to predict the type of particle\n",
    "- one regressor to predict the energy of gamma events\n",
    "\n",
    "You will apply the methods seen previously during the course and try to find the best model with the best hyperparameters.\n",
    "At the end, you can apply your model to a test dataset with unknown labels and send your prediction back to us. We will then evaluate it and rank the predictions.\n",
    "\n",
    "\n",
    "rules:\n",
    "- You can only use models in scikit-learn.\n",
    "- regression score will be computed using a logarithmic MSE\n",
    "- classficiation score will be accuracy\n",
    "- You must do you pull-request on the repository https://github.com/escape2020/school2022-mlctapred with your prediction before 10:30 today to be ranked.\n",
    "- Tutors can participate, they can't win\n"
   ]
  },
  {
   "cell_type": "code",
   "execution_count": 2,
   "metadata": {
    "ExecuteTime": {
     "end_time": "2018-11-27T15:05:27.643365Z",
     "start_time": "2018-11-27T15:05:26.177785Z"
    }
   },
   "outputs": [],
   "source": [
    "import ml_func as ml\n",
    "\n",
    "import matplotlib\n",
    "import matplotlib.pyplot as plt\n",
    "import pandas as pd\n",
    "import numpy as np\n",
    "from matplotlib.colors import ListedColormap"
   ]
  },
  {
   "cell_type": "code",
   "execution_count": 3,
   "metadata": {
    "ExecuteTime": {
     "end_time": "2018-11-27T15:05:27.643365Z",
     "start_time": "2018-11-27T15:05:26.177785Z"
    }
   },
   "outputs": [],
   "source": [
    "pd.options.display.max_rows = 10\n",
    "ml.set_plot_style()"
   ]
  },
  {
   "cell_type": "markdown",
   "metadata": {},
   "source": [
    "# A Complete Example\n",
    "\n",
    "Below we load a dataset containing data from simulated CTA Observations.\n",
    "\n",
    "<img width=\"100%\" src=\"https://upload.wikimedia.org/wikipedia/commons/thumb/b/b0/CTA_Telescopes_in_Southern_Hemisphere.jpg/1280px-CTA_Telescopes_in_Southern_Hemisphere.jpg\" />   \n",
    "\n",
    "We will perform the typical steps to build and evaluate a classifier.\n",
    "\n",
    "0. Understand where your data comes from\n",
    "\n",
    "1. Preprocessing\n",
    "    * Drop Constant Values,\n",
    "    * Handle Missing Data \n",
    "    * Feature Generation\n",
    "\n",
    "2. Splitting\n",
    "    \n",
    "    * Split your data into training and evaluation sets\n",
    "    \n",
    "3. Training \n",
    "    \n",
    "    * Train your classifier of choice.\n",
    "    \n",
    "4. Evaluation\n",
    "    \n",
    "    * Evaluate the performance on the test data set.\n",
    "    * If not good enough, go back to step 1 \n",
    "    \n",
    "5. Physics\n",
    "    \n",
    "    * Check whether your data support your hypothesis\n",
    "    "
   ]
  },
  {
   "cell_type": "markdown",
   "metadata": {},
   "source": [
    "## 1. Get to know your data\n",
    "\n",
    "Cherenkov telescopes record short flashes of light produced by very high energy cosmic rays and photons hitting earths atmosphere.\n",
    "\n",
    "![](https://www.cta-observatory.org/wp-content/uploads/2016/05/cta47.png)"
   ]
  },
  {
   "cell_type": "code",
   "execution_count": 4,
   "metadata": {
    "ExecuteTime": {
     "end_time": "2018-11-27T15:07:00.589316Z",
     "start_time": "2018-11-27T15:07:00.584438Z"
    }
   },
   "outputs": [
    {
     "data": {
      "text/html": [
       "<!-- https://nextcloud.e5.physik.tu-dortmund.de/index.php/s/e7yb2mifGDeyDBN/download -->\n",
       "<video width=\"100%\" controls>\n",
       "  <source src=\"./resources/fact_events.mp4\" type=\"video/mp4\">\n",
       "</video>\n"
      ],
      "text/plain": [
       "<IPython.core.display.HTML object>"
      ]
     },
     "metadata": {},
     "output_type": "display_data"
    }
   ],
   "source": [
    "%%HTML\n",
    "<!-- https://nextcloud.e5.physik.tu-dortmund.de/index.php/s/e7yb2mifGDeyDBN/download -->\n",
    "<video width=\"100%\" controls>\n",
    "  <source src=\"./resources/fact_events.mp4\" type=\"video/mp4\">\n",
    "</video>"
   ]
  },
  {
   "cell_type": "markdown",
   "metadata": {},
   "source": [
    "We will use machine learning for two tasks in this example. \n",
    "\n",
    " * Train a classifier to distinguish events induced by gamma rays form events induced by cosmic rays\n",
    " * Train a regressor to estimate the energy of the incoming primary particle."
   ]
  },
  {
   "cell_type": "markdown",
   "metadata": {},
   "source": [
    "## 2. Preprocess data\n",
    "\n",
    "A lot of preprocessing has already happened at this point.\n",
    "\n",
    "* Calibration of Raw Data\n",
    "* Data Reduction from voltage timeseries per pixel to number of photons and mean time for each pixel\n",
    "* Calculation of image features\n",
    "* Geometrical Reconstruction of the Shower Geometry\n",
    "\n",
    "\n",
    "Load data and remove unwanted columns and store the true labels separately."
   ]
  },
  {
   "cell_type": "code",
   "execution_count": 5,
   "metadata": {},
   "outputs": [],
   "source": [
    "train_df = pd.read_hdf(train_filename)"
   ]
  },
  {
   "cell_type": "code",
   "execution_count": 6,
   "metadata": {},
   "outputs": [
    {
     "data": {
      "text/plain": [
       "81"
      ]
     },
     "execution_count": 6,
     "metadata": {},
     "output_type": "execute_result"
    }
   ],
   "source": [
    "len(train_df.columns)"
   ]
  },
  {
   "cell_type": "markdown",
   "metadata": {},
   "source": [
    "Check the data types of the columns. We can select non-numeric types and encode them. But in this case we might as well drop them as the attribute is not important."
   ]
  },
  {
   "cell_type": "code",
   "execution_count": 7,
   "metadata": {
    "ExecuteTime": {
     "end_time": "2018-11-27T15:07:02.075296Z",
     "start_time": "2018-11-27T15:07:02.057255Z"
    }
   },
   "outputs": [
    {
     "name": "stdout",
     "output_type": "stream",
     "text": [
      "Removed columns: ['name' 'type' 'camera_type' 'tel_description' 'time'\n",
      " 'HillasReconstructor_is_valid']\n"
     ]
    }
   ],
   "source": [
    "c = train_df.select_dtypes(exclude=['number']).columns\n",
    "print('Removed columns:', c.values)\n",
    "\n",
    "train_df = train_df.drop(c, axis='columns')"
   ]
  },
  {
   "cell_type": "markdown",
   "metadata": {},
   "source": [
    "We can spot the columns with constant values by looking at the standard deviation."
   ]
  },
  {
   "cell_type": "code",
   "execution_count": 8,
   "metadata": {
    "ExecuteTime": {
     "end_time": "2018-11-27T15:07:02.529060Z",
     "start_time": "2018-11-27T15:07:02.078743Z"
    }
   },
   "outputs": [
    {
     "data": {
      "text/html": [
       "<div>\n",
       "<style scoped>\n",
       "    .dataframe tbody tr th:only-of-type {\n",
       "        vertical-align: middle;\n",
       "    }\n",
       "\n",
       "    .dataframe tbody tr th {\n",
       "        vertical-align: top;\n",
       "    }\n",
       "\n",
       "    .dataframe thead th {\n",
       "        text-align: right;\n",
       "    }\n",
       "</style>\n",
       "<table border=\"1\" class=\"dataframe\">\n",
       "  <thead>\n",
       "    <tr style=\"text-align: right;\">\n",
       "      <th></th>\n",
       "      <th>obs_id</th>\n",
       "      <th>event_id</th>\n",
       "      <th>tel_id</th>\n",
       "      <th>hillas_intensity</th>\n",
       "      <th>hillas_skewness</th>\n",
       "      <th>hillas_kurtosis</th>\n",
       "      <th>hillas_fov_lon</th>\n",
       "      <th>hillas_fov_lat</th>\n",
       "      <th>hillas_r</th>\n",
       "      <th>hillas_phi</th>\n",
       "      <th>...</th>\n",
       "      <th>HillasReconstructor_core_uncert_x</th>\n",
       "      <th>HillasReconstructor_core_uncert_y</th>\n",
       "      <th>HillasReconstructor_core_tilted_x</th>\n",
       "      <th>HillasReconstructor_core_tilted_y</th>\n",
       "      <th>HillasReconstructor_core_tilted_uncert_x</th>\n",
       "      <th>HillasReconstructor_core_tilted_uncert_y</th>\n",
       "      <th>HillasReconstructor_h_max</th>\n",
       "      <th>HillasReconstructor_h_max_uncert</th>\n",
       "      <th>HillasReconstructor_average_intensity</th>\n",
       "      <th>HillasReconstructor_goodness_of_fit</th>\n",
       "    </tr>\n",
       "  </thead>\n",
       "  <tbody>\n",
       "    <tr>\n",
       "      <th>count</th>\n",
       "      <td>191576.000000</td>\n",
       "      <td>1.915760e+05</td>\n",
       "      <td>191576.000000</td>\n",
       "      <td>1.447880e+05</td>\n",
       "      <td>144788.000000</td>\n",
       "      <td>144788.000000</td>\n",
       "      <td>144788.000000</td>\n",
       "      <td>144788.000000</td>\n",
       "      <td>144788.000000</td>\n",
       "      <td>144788.000000</td>\n",
       "      <td>...</td>\n",
       "      <td>0.0</td>\n",
       "      <td>0.0</td>\n",
       "      <td>118174.000000</td>\n",
       "      <td>118174.000000</td>\n",
       "      <td>0.0</td>\n",
       "      <td>0.0</td>\n",
       "      <td>1.181740e+05</td>\n",
       "      <td>0.0</td>\n",
       "      <td>118174.000000</td>\n",
       "      <td>0.0</td>\n",
       "    </tr>\n",
       "    <tr>\n",
       "      <th>mean</th>\n",
       "      <td>4034.415877</td>\n",
       "      <td>2.505329e+06</td>\n",
       "      <td>9.781852</td>\n",
       "      <td>1.406573e+03</td>\n",
       "      <td>-0.001422</td>\n",
       "      <td>2.338269</td>\n",
       "      <td>0.008467</td>\n",
       "      <td>-0.002987</td>\n",
       "      <td>2.358293</td>\n",
       "      <td>-0.314722</td>\n",
       "      <td>...</td>\n",
       "      <td>NaN</td>\n",
       "      <td>NaN</td>\n",
       "      <td>-48.463258</td>\n",
       "      <td>-13.758924</td>\n",
       "      <td>NaN</td>\n",
       "      <td>NaN</td>\n",
       "      <td>8.897712e+03</td>\n",
       "      <td>NaN</td>\n",
       "      <td>1971.285419</td>\n",
       "      <td>NaN</td>\n",
       "    </tr>\n",
       "    <tr>\n",
       "      <th>std</th>\n",
       "      <td>4307.906126</td>\n",
       "      <td>1.436463e+06</td>\n",
       "      <td>8.880496</td>\n",
       "      <td>1.234515e+04</td>\n",
       "      <td>0.484921</td>\n",
       "      <td>0.835964</td>\n",
       "      <td>1.806007</td>\n",
       "      <td>1.805688</td>\n",
       "      <td>0.980137</td>\n",
       "      <td>103.765748</td>\n",
       "      <td>...</td>\n",
       "      <td>NaN</td>\n",
       "      <td>NaN</td>\n",
       "      <td>1425.853374</td>\n",
       "      <td>2305.360433</td>\n",
       "      <td>NaN</td>\n",
       "      <td>NaN</td>\n",
       "      <td>1.534817e+04</td>\n",
       "      <td>NaN</td>\n",
       "      <td>9743.990810</td>\n",
       "      <td>NaN</td>\n",
       "    </tr>\n",
       "    <tr>\n",
       "      <th>min</th>\n",
       "      <td>6.000000</td>\n",
       "      <td>1.000000e+02</td>\n",
       "      <td>1.000000</td>\n",
       "      <td>5.000156e+01</td>\n",
       "      <td>-4.580820</td>\n",
       "      <td>1.000378</td>\n",
       "      <td>-3.740020</td>\n",
       "      <td>-4.054932</td>\n",
       "      <td>0.008485</td>\n",
       "      <td>-179.998728</td>\n",
       "      <td>...</td>\n",
       "      <td>NaN</td>\n",
       "      <td>NaN</td>\n",
       "      <td>-228586.452946</td>\n",
       "      <td>-256916.817413</td>\n",
       "      <td>NaN</td>\n",
       "      <td>NaN</td>\n",
       "      <td>5.331505e+01</td>\n",
       "      <td>NaN</td>\n",
       "      <td>51.809884</td>\n",
       "      <td>NaN</td>\n",
       "    </tr>\n",
       "    <tr>\n",
       "      <th>25%</th>\n",
       "      <td>564.000000</td>\n",
       "      <td>1.262382e+06</td>\n",
       "      <td>4.000000</td>\n",
       "      <td>9.452853e+01</td>\n",
       "      <td>-0.275556</td>\n",
       "      <td>1.910261</td>\n",
       "      <td>-1.345421</td>\n",
       "      <td>-1.362219</td>\n",
       "      <td>1.604686</td>\n",
       "      <td>-89.745863</td>\n",
       "      <td>...</td>\n",
       "      <td>NaN</td>\n",
       "      <td>NaN</td>\n",
       "      <td>-139.373119</td>\n",
       "      <td>-154.105380</td>\n",
       "      <td>NaN</td>\n",
       "      <td>NaN</td>\n",
       "      <td>6.957040e+03</td>\n",
       "      <td>NaN</td>\n",
       "      <td>178.606041</td>\n",
       "      <td>NaN</td>\n",
       "    </tr>\n",
       "    <tr>\n",
       "      <th>50%</th>\n",
       "      <td>1303.000000</td>\n",
       "      <td>2.522114e+06</td>\n",
       "      <td>8.000000</td>\n",
       "      <td>1.885668e+02</td>\n",
       "      <td>-0.001402</td>\n",
       "      <td>2.192070</td>\n",
       "      <td>0.017027</td>\n",
       "      <td>-0.009350</td>\n",
       "      <td>2.319740</td>\n",
       "      <td>-0.708060</td>\n",
       "      <td>...</td>\n",
       "      <td>NaN</td>\n",
       "      <td>NaN</td>\n",
       "      <td>-31.288321</td>\n",
       "      <td>-21.744096</td>\n",
       "      <td>NaN</td>\n",
       "      <td>NaN</td>\n",
       "      <td>8.566593e+03</td>\n",
       "      <td>NaN</td>\n",
       "      <td>366.401119</td>\n",
       "      <td>NaN</td>\n",
       "    </tr>\n",
       "    <tr>\n",
       "      <th>75%</th>\n",
       "      <td>7503.000000</td>\n",
       "      <td>3.747716e+06</td>\n",
       "      <td>11.000000</td>\n",
       "      <td>5.180995e+02</td>\n",
       "      <td>0.274656</td>\n",
       "      <td>2.567369</td>\n",
       "      <td>1.353119</td>\n",
       "      <td>1.362149</td>\n",
       "      <td>3.254738</td>\n",
       "      <td>89.052235</td>\n",
       "      <td>...</td>\n",
       "      <td>NaN</td>\n",
       "      <td>NaN</td>\n",
       "      <td>69.321668</td>\n",
       "      <td>97.253091</td>\n",
       "      <td>NaN</td>\n",
       "      <td>NaN</td>\n",
       "      <td>1.023198e+04</td>\n",
       "      <td>NaN</td>\n",
       "      <td>933.568718</td>\n",
       "      <td>NaN</td>\n",
       "    </tr>\n",
       "    <tr>\n",
       "      <th>max</th>\n",
       "      <td>12934.000000</td>\n",
       "      <td>5.000017e+06</td>\n",
       "      <td>35.000000</td>\n",
       "      <td>1.040606e+06</td>\n",
       "      <td>4.738561</td>\n",
       "      <td>36.195741</td>\n",
       "      <td>3.741765</td>\n",
       "      <td>4.054217</td>\n",
       "      <td>4.085122</td>\n",
       "      <td>179.990397</td>\n",
       "      <td>...</td>\n",
       "      <td>NaN</td>\n",
       "      <td>NaN</td>\n",
       "      <td>42685.665862</td>\n",
       "      <td>229151.504332</td>\n",
       "      <td>NaN</td>\n",
       "      <td>NaN</td>\n",
       "      <td>2.802989e+06</td>\n",
       "      <td>NaN</td>\n",
       "      <td>334123.535908</td>\n",
       "      <td>NaN</td>\n",
       "    </tr>\n",
       "  </tbody>\n",
       "</table>\n",
       "<p>8 rows × 75 columns</p>\n",
       "</div>"
      ],
      "text/plain": [
       "              obs_id      event_id         tel_id  hillas_intensity  \\\n",
       "count  191576.000000  1.915760e+05  191576.000000      1.447880e+05   \n",
       "mean     4034.415877  2.505329e+06       9.781852      1.406573e+03   \n",
       "std      4307.906126  1.436463e+06       8.880496      1.234515e+04   \n",
       "min         6.000000  1.000000e+02       1.000000      5.000156e+01   \n",
       "25%       564.000000  1.262382e+06       4.000000      9.452853e+01   \n",
       "50%      1303.000000  2.522114e+06       8.000000      1.885668e+02   \n",
       "75%      7503.000000  3.747716e+06      11.000000      5.180995e+02   \n",
       "max     12934.000000  5.000017e+06      35.000000      1.040606e+06   \n",
       "\n",
       "       hillas_skewness  hillas_kurtosis  hillas_fov_lon  hillas_fov_lat  \\\n",
       "count    144788.000000    144788.000000   144788.000000   144788.000000   \n",
       "mean         -0.001422         2.338269        0.008467       -0.002987   \n",
       "std           0.484921         0.835964        1.806007        1.805688   \n",
       "min          -4.580820         1.000378       -3.740020       -4.054932   \n",
       "25%          -0.275556         1.910261       -1.345421       -1.362219   \n",
       "50%          -0.001402         2.192070        0.017027       -0.009350   \n",
       "75%           0.274656         2.567369        1.353119        1.362149   \n",
       "max           4.738561        36.195741        3.741765        4.054217   \n",
       "\n",
       "            hillas_r     hillas_phi  ...  HillasReconstructor_core_uncert_x  \\\n",
       "count  144788.000000  144788.000000  ...                                0.0   \n",
       "mean        2.358293      -0.314722  ...                                NaN   \n",
       "std         0.980137     103.765748  ...                                NaN   \n",
       "min         0.008485    -179.998728  ...                                NaN   \n",
       "25%         1.604686     -89.745863  ...                                NaN   \n",
       "50%         2.319740      -0.708060  ...                                NaN   \n",
       "75%         3.254738      89.052235  ...                                NaN   \n",
       "max         4.085122     179.990397  ...                                NaN   \n",
       "\n",
       "       HillasReconstructor_core_uncert_y  HillasReconstructor_core_tilted_x  \\\n",
       "count                                0.0                      118174.000000   \n",
       "mean                                 NaN                         -48.463258   \n",
       "std                                  NaN                        1425.853374   \n",
       "min                                  NaN                     -228586.452946   \n",
       "25%                                  NaN                        -139.373119   \n",
       "50%                                  NaN                         -31.288321   \n",
       "75%                                  NaN                          69.321668   \n",
       "max                                  NaN                       42685.665862   \n",
       "\n",
       "       HillasReconstructor_core_tilted_y  \\\n",
       "count                      118174.000000   \n",
       "mean                          -13.758924   \n",
       "std                          2305.360433   \n",
       "min                       -256916.817413   \n",
       "25%                          -154.105380   \n",
       "50%                           -21.744096   \n",
       "75%                            97.253091   \n",
       "max                        229151.504332   \n",
       "\n",
       "       HillasReconstructor_core_tilted_uncert_x  \\\n",
       "count                                       0.0   \n",
       "mean                                        NaN   \n",
       "std                                         NaN   \n",
       "min                                         NaN   \n",
       "25%                                         NaN   \n",
       "50%                                         NaN   \n",
       "75%                                         NaN   \n",
       "max                                         NaN   \n",
       "\n",
       "       HillasReconstructor_core_tilted_uncert_y  HillasReconstructor_h_max  \\\n",
       "count                                       0.0               1.181740e+05   \n",
       "mean                                        NaN               8.897712e+03   \n",
       "std                                         NaN               1.534817e+04   \n",
       "min                                         NaN               5.331505e+01   \n",
       "25%                                         NaN               6.957040e+03   \n",
       "50%                                         NaN               8.566593e+03   \n",
       "75%                                         NaN               1.023198e+04   \n",
       "max                                         NaN               2.802989e+06   \n",
       "\n",
       "       HillasReconstructor_h_max_uncert  \\\n",
       "count                               0.0   \n",
       "mean                                NaN   \n",
       "std                                 NaN   \n",
       "min                                 NaN   \n",
       "25%                                 NaN   \n",
       "50%                                 NaN   \n",
       "75%                                 NaN   \n",
       "max                                 NaN   \n",
       "\n",
       "       HillasReconstructor_average_intensity  \\\n",
       "count                          118174.000000   \n",
       "mean                             1971.285419   \n",
       "std                              9743.990810   \n",
       "min                                51.809884   \n",
       "25%                               178.606041   \n",
       "50%                               366.401119   \n",
       "75%                               933.568718   \n",
       "max                            334123.535908   \n",
       "\n",
       "       HillasReconstructor_goodness_of_fit  \n",
       "count                                  0.0  \n",
       "mean                                   NaN  \n",
       "std                                    NaN  \n",
       "min                                    NaN  \n",
       "25%                                    NaN  \n",
       "50%                                    NaN  \n",
       "75%                                    NaN  \n",
       "max                                    NaN  \n",
       "\n",
       "[8 rows x 75 columns]"
      ]
     },
     "execution_count": 8,
     "metadata": {},
     "output_type": "execute_result"
    }
   ],
   "source": [
    "desc = train_df.describe()\n",
    "desc"
   ]
  },
  {
   "cell_type": "code",
   "execution_count": 9,
   "metadata": {
    "ExecuteTime": {
     "end_time": "2018-11-27T15:07:02.547778Z",
     "start_time": "2018-11-27T15:07:02.532415Z"
    }
   },
   "outputs": [
    {
     "name": "stdout",
     "output_type": "stream",
     "text": [
      "Removed columns: ['num_mirrors' 'event_type']\n"
     ]
    }
   ],
   "source": [
    "c = desc.columns[desc.loc['std'] == 0]\n",
    "print('Removed columns:', c.values)\n",
    "train_df = train_df.drop(c, axis='columns')"
   ]
  },
  {
   "cell_type": "markdown",
   "metadata": {},
   "source": [
    "drop columns where all rows are nan"
   ]
  },
  {
   "cell_type": "code",
   "execution_count": 10,
   "metadata": {},
   "outputs": [
    {
     "name": "stdout",
     "output_type": "stream",
     "text": [
      "Removed columns: ['HillasReconstructor_core_uncert_x' 'HillasReconstructor_core_uncert_y'\n",
      " 'HillasReconstructor_core_tilted_uncert_x'\n",
      " 'HillasReconstructor_core_tilted_uncert_y'\n",
      " 'HillasReconstructor_h_max_uncert' 'HillasReconstructor_goodness_of_fit']\n"
     ]
    }
   ],
   "source": [
    "c = train_df.columns[train_df.count() == 0]\n",
    "print('Removed columns:', c.values)\n",
    "train_df = train_df.drop(c, axis='columns')"
   ]
  },
  {
   "cell_type": "markdown",
   "metadata": {},
   "source": [
    "Check for missing data. (Just delete it in this case)"
   ]
  },
  {
   "cell_type": "code",
   "execution_count": 11,
   "metadata": {
    "ExecuteTime": {
     "end_time": "2018-11-27T15:07:02.594941Z",
     "start_time": "2018-11-27T15:07:02.551401Z"
    }
   },
   "outputs": [
    {
     "name": "stdout",
     "output_type": "stream",
     "text": [
      "191576\n",
      "89321\n"
     ]
    }
   ],
   "source": [
    "print(len(train_df))\n",
    "train_df = train_df.dropna()\n",
    "print(len(train_df))"
   ]
  },
  {
   "cell_type": "code",
   "execution_count": 12,
   "metadata": {
    "ExecuteTime": {
     "end_time": "2018-11-27T15:07:02.608429Z",
     "start_time": "2018-11-27T15:07:02.597366Z"
    }
   },
   "outputs": [],
   "source": [
    "def preprocess(df):\n",
    "    \"\"\" \n",
    "    All the preprocessing in one function\n",
    "    \"\"\"\n",
    "    \n",
    "    c = df.select_dtypes(exclude=['number']).columns\n",
    "    df = df.drop(c, axis='columns')\n",
    "    \n",
    "    c = df.columns[df.count() == 0]\n",
    "    df = df.drop(c, axis='columns')\n",
    "    \n",
    "    desc = df.describe()\n",
    "    \n",
    "    c = desc.columns[desc.loc['std'] == 0]\n",
    "    df = df.drop(c, axis='columns')\n",
    "    \n",
    "    df = df.dropna()\n",
    "    \n",
    "    return df"
   ]
  },
  {
   "cell_type": "markdown",
   "metadata": {},
   "source": [
    "Now we can perform feature generation. We use our expert knowledge or intuition to create a new feature by combining existing columns into a new variable."
   ]
  },
  {
   "cell_type": "code",
   "execution_count": 13,
   "metadata": {
    "ExecuteTime": {
     "end_time": "2018-11-27T15:07:03.481076Z",
     "start_time": "2018-11-27T15:07:03.471131Z"
    }
   },
   "outputs": [
    {
     "data": {
      "text/html": [
       "<div>\n",
       "<style scoped>\n",
       "    .dataframe tbody tr th:only-of-type {\n",
       "        vertical-align: middle;\n",
       "    }\n",
       "\n",
       "    .dataframe tbody tr th {\n",
       "        vertical-align: top;\n",
       "    }\n",
       "\n",
       "    .dataframe thead th {\n",
       "        text-align: right;\n",
       "    }\n",
       "</style>\n",
       "<table border=\"1\" class=\"dataframe\">\n",
       "  <thead>\n",
       "    <tr style=\"text-align: right;\">\n",
       "      <th></th>\n",
       "      <th>awesome_feature</th>\n",
       "      <th>impact</th>\n",
       "    </tr>\n",
       "  </thead>\n",
       "  <tbody>\n",
       "    <tr>\n",
       "      <th>0</th>\n",
       "      <td>153.073770</td>\n",
       "      <td>521.449692</td>\n",
       "    </tr>\n",
       "    <tr>\n",
       "      <th>2</th>\n",
       "      <td>95.360931</td>\n",
       "      <td>667.462295</td>\n",
       "    </tr>\n",
       "    <tr>\n",
       "      <th>3</th>\n",
       "      <td>37.787895</td>\n",
       "      <td>631.265012</td>\n",
       "    </tr>\n",
       "    <tr>\n",
       "      <th>5</th>\n",
       "      <td>65.383803</td>\n",
       "      <td>159.406527</td>\n",
       "    </tr>\n",
       "    <tr>\n",
       "      <th>6</th>\n",
       "      <td>44.162487</td>\n",
       "      <td>65.933890</td>\n",
       "    </tr>\n",
       "    <tr>\n",
       "      <th>...</th>\n",
       "      <td>...</td>\n",
       "      <td>...</td>\n",
       "    </tr>\n",
       "    <tr>\n",
       "      <th>99607</th>\n",
       "      <td>57.323947</td>\n",
       "      <td>622.227452</td>\n",
       "    </tr>\n",
       "    <tr>\n",
       "      <th>99608</th>\n",
       "      <td>54.572369</td>\n",
       "      <td>357.782269</td>\n",
       "    </tr>\n",
       "    <tr>\n",
       "      <th>99609</th>\n",
       "      <td>44.360092</td>\n",
       "      <td>16.751592</td>\n",
       "    </tr>\n",
       "    <tr>\n",
       "      <th>99610</th>\n",
       "      <td>34.471839</td>\n",
       "      <td>204.048956</td>\n",
       "    </tr>\n",
       "    <tr>\n",
       "      <th>99611</th>\n",
       "      <td>88.831144</td>\n",
       "      <td>146.583980</td>\n",
       "    </tr>\n",
       "  </tbody>\n",
       "</table>\n",
       "<p>89321 rows × 2 columns</p>\n",
       "</div>"
      ],
      "text/plain": [
       "       awesome_feature      impact\n",
       "0           153.073770  521.449692\n",
       "2            95.360931  667.462295\n",
       "3            37.787895  631.265012\n",
       "5            65.383803  159.406527\n",
       "6            44.162487   65.933890\n",
       "...                ...         ...\n",
       "99607        57.323947  622.227452\n",
       "99608        54.572369  357.782269\n",
       "99609        44.360092   16.751592\n",
       "99610        34.471839  204.048956\n",
       "99611        88.831144  146.583980\n",
       "\n",
       "[89321 rows x 2 columns]"
      ]
     },
     "execution_count": 13,
     "metadata": {},
     "output_type": "execute_result"
    }
   ],
   "source": [
    "def feature_generation(df):\n",
    "    df['awesome_feature'] =  df['hillas_intensity'] * (df['hillas_width'] / df['hillas_length'])\n",
    "    \n",
    "    # distance of impact point to the telescope\n",
    "    df['impact'] = np.sqrt(\n",
    "        (df['HillasReconstructor_core_x'] - df['pos_x'])**2\n",
    "        + (df['HillasReconstructor_core_y'] - df['pos_y'])**2\n",
    "    )\n",
    "    return df\n",
    "\n",
    "train_df = feature_generation(train_df)\n",
    "\n",
    "train_df[['awesome_feature', 'impact']]"
   ]
  },
  {
   "cell_type": "markdown",
   "metadata": {},
   "source": [
    "## 3. A quick look at the data"
   ]
  },
  {
   "cell_type": "markdown",
   "metadata": {},
   "source": [
    "First we can divide the data in two datasets, based on the type of particles, gammas or protons"
   ]
  },
  {
   "cell_type": "code",
   "execution_count": 14,
   "metadata": {},
   "outputs": [],
   "source": [
    "gammas = train_df[train_df.true_shower_primary_id==0]\n",
    "protons = train_df[train_df.true_shower_primary_id==101]"
   ]
  },
  {
   "cell_type": "code",
   "execution_count": 15,
   "metadata": {
    "ExecuteTime": {
     "end_time": "2018-11-27T15:07:03.829801Z",
     "start_time": "2018-11-27T15:07:03.484278Z"
    }
   },
   "outputs": [
    {
     "data": {
      "image/png": "[encoded data removed]",
      "text/plain": [
       "<Figure size 432x288 with 1 Axes>"
      ]
     },
     "metadata": {
      "needs_background": "light"
     },
     "output_type": "display_data"
    }
   ],
   "source": [
    "bins = np.linspace(-20, 20, 100)\n",
    "# bins = np.logspace(0, 1, 100)\n",
    "# bins = 100\n",
    "bins = np.arange(0, 10) - 0.5\n",
    "bins = np.geomspace(1e3, 30e3, 51)\n",
    "\n",
    "col = 'HillasReconstructor_h_max'\n",
    "\n",
    "plt.figure()\n",
    "plt.hist(gammas[col], bins=bins, histtype='step', lw=2, label='Gammas', density=True)\n",
    "plt.hist(protons[col], bins=bins, histtype='step', lw=2, label='Protons', density=True)\n",
    "plt.xscale('log')\n",
    "plt.xlabel(col)\n",
    "plt.legend()\n",
    "None"
   ]
  },
  {
   "cell_type": "markdown",
   "metadata": {},
   "source": [
    "### Exercise\n",
    "You may plot other histograms or scatter plots to get a better grasp at the data."
   ]
  },
  {
   "cell_type": "code",
   "execution_count": null,
   "metadata": {},
   "outputs": [],
   "source": []
  },
  {
   "cell_type": "markdown",
   "metadata": {},
   "source": [
    "## 4. Train a regressor to reconstruct the gammas energy"
   ]
  },
  {
   "cell_type": "code",
   "execution_count": 16,
   "metadata": {},
   "outputs": [
    {
     "data": {
      "text/plain": [
       "['tel_id',\n",
       " 'hillas_intensity',\n",
       " 'hillas_skewness',\n",
       " 'hillas_kurtosis',\n",
       " 'hillas_fov_lon',\n",
       " 'hillas_fov_lat',\n",
       " 'hillas_r',\n",
       " 'hillas_phi',\n",
       " 'hillas_length',\n",
       " 'hillas_length_uncertainty',\n",
       " 'hillas_width',\n",
       " 'hillas_width_uncertainty',\n",
       " 'hillas_psi',\n",
       " 'timing_intercept',\n",
       " 'timing_deviation',\n",
       " 'timing_slope',\n",
       " 'leakage_pixels_width_1',\n",
       " 'leakage_pixels_width_2',\n",
       " 'leakage_intensity_width_1',\n",
       " 'leakage_intensity_width_2',\n",
       " 'concentration_cog',\n",
       " 'concentration_core',\n",
       " 'concentration_pixel',\n",
       " 'morphology_num_pixels',\n",
       " 'morphology_num_islands',\n",
       " 'morphology_num_small_islands',\n",
       " 'morphology_num_medium_islands',\n",
       " 'morphology_num_large_islands',\n",
       " 'intensity_max',\n",
       " 'intensity_min',\n",
       " 'intensity_mean',\n",
       " 'intensity_std',\n",
       " 'intensity_skewness',\n",
       " 'intensity_kurtosis',\n",
       " 'peak_time_max',\n",
       " 'peak_time_min',\n",
       " 'peak_time_mean',\n",
       " 'peak_time_std',\n",
       " 'peak_time_skewness',\n",
       " 'peak_time_kurtosis',\n",
       " 'core_psi',\n",
       " 'pos_x',\n",
       " 'pos_y',\n",
       " 'pos_z',\n",
       " 'mirror_area',\n",
       " 'num_mirror_tiles',\n",
       " 'equivalent_focal_length',\n",
       " 'HillasReconstructor_alt',\n",
       " 'HillasReconstructor_alt_uncert',\n",
       " 'HillasReconstructor_az',\n",
       " 'HillasReconstructor_az_uncert',\n",
       " 'HillasReconstructor_core_x',\n",
       " 'HillasReconstructor_core_y',\n",
       " 'HillasReconstructor_core_tilted_x',\n",
       " 'HillasReconstructor_core_tilted_y',\n",
       " 'HillasReconstructor_h_max',\n",
       " 'HillasReconstructor_average_intensity',\n",
       " 'awesome_feature',\n",
       " 'impact']"
      ]
     },
     "execution_count": 16,
     "metadata": {},
     "output_type": "execute_result"
    }
   ],
   "source": [
    "# we select the training features by removing columns with `true_` values coming from the simulation\n",
    "training_features = [name for name in list(gammas.columns) if not name.startswith('true_')]\n",
    "predict_feature = 'true_energy'  # replace with the simulated energy column name\n",
    "\n",
    "training_features.remove('obs_id')\n",
    "training_features.remove('event_id')\n",
    "training_features"
   ]
  },
  {
   "cell_type": "code",
   "execution_count": 17,
   "metadata": {},
   "outputs": [],
   "source": [
    "# Implement the train / test split for X,y\n",
    "\n",
    "X = gammas[training_features]\n",
    "y = gammas[predict_feature]\n"
   ]
  },
  {
   "cell_type": "markdown",
   "metadata": {},
   "source": [
    "1. Divide your dataset into train and validation\n",
    "1. Fit a `DecisionTree` to do the regression of the energy on gammas\n",
    "1. Apply the trained model to the test dataset\n",
    "1. Evaluate the goodness of your prediction using a logarithmic MSE\n",
    "1. Extra: How can we improve that regression?"
   ]
  },
  {
   "cell_type": "code",
   "execution_count": 18,
   "metadata": {},
   "outputs": [
    {
     "ename": "SyntaxError",
     "evalue": "invalid syntax (1779053316.py, line 1)",
     "output_type": "error",
     "traceback": [
      "\u001b[0;36m  Input \u001b[0;32mIn [18]\u001b[0;36m\u001b[0m\n\u001b[0;31m    from sklearn.tree import ??\u001b[0m\n\u001b[0m                             ^\u001b[0m\n\u001b[0;31mSyntaxError\u001b[0m\u001b[0;31m:\u001b[0m invalid syntax\n"
     ]
    }
   ],
   "source": [
    "from sklearn.tree import ??"
   ]
  },
  {
   "cell_type": "code",
   "execution_count": 19,
   "metadata": {},
   "outputs": [
    {
     "ename": "SyntaxError",
     "evalue": "invalid syntax (692700143.py, line 5)",
     "output_type": "error",
     "traceback": [
      "\u001b[0;36m  Input \u001b[0;32mIn [19]\u001b[0;36m\u001b[0m\n\u001b[0;31m    train_test_split(???)\u001b[0m\n\u001b[0m                     ^\u001b[0m\n\u001b[0;31mSyntaxError\u001b[0m\u001b[0;31m:\u001b[0m invalid syntax\n"
     ]
    }
   ],
   "source": [
    "\n",
    "X = gammas[training_features]\n",
    "y = gammas[predict_feature]\n",
    "\n",
    "\n",
    "train_test_split(???)\n"
   ]
  },
  {
   "cell_type": "code",
   "execution_count": 20,
   "metadata": {},
   "outputs": [
    {
     "ename": "SyntaxError",
     "evalue": "invalid syntax (486543896.py, line 1)",
     "output_type": "error",
     "traceback": [
      "\u001b[0;36m  Input \u001b[0;32mIn [20]\u001b[0;36m\u001b[0m\n\u001b[0;31m    reg = ???\u001b[0m\n\u001b[0m          ^\u001b[0m\n\u001b[0;31mSyntaxError\u001b[0m\u001b[0;31m:\u001b[0m invalid syntax\n"
     ]
    }
   ],
   "source": [
    "reg = ???\n",
    "reg.fit(X_train, y_train)"
   ]
  },
  {
   "cell_type": "code",
   "execution_count": 21,
   "metadata": {},
   "outputs": [
    {
     "ename": "SyntaxError",
     "evalue": "invalid syntax (153931060.py, line 1)",
     "output_type": "error",
     "traceback": [
      "\u001b[0;36m  Input \u001b[0;32mIn [21]\u001b[0;36m\u001b[0m\n\u001b[0;31m    y_predict = ???\u001b[0m\n\u001b[0m                ^\u001b[0m\n\u001b[0;31mSyntaxError\u001b[0m\u001b[0;31m:\u001b[0m invalid syntax\n"
     ]
    }
   ],
   "source": [
    "y_predict = ???"
   ]
  },
  {
   "cell_type": "code",
   "execution_count": null,
   "metadata": {},
   "outputs": [],
   "source": []
  },
  {
   "cell_type": "code",
   "execution_count": null,
   "metadata": {},
   "outputs": [],
   "source": []
  },
  {
   "cell_type": "code",
   "execution_count": null,
   "metadata": {},
   "outputs": [],
   "source": []
  },
  {
   "cell_type": "markdown",
   "metadata": {},
   "source": [
    "## 5. Train a classifier to do gamma/hadron separation\n",
    "\n",
    "Data preparation for gamma/hadron classification\n",
    "\n",
    "Execise: split the data into train / test using sklearn"
   ]
  },
  {
   "cell_type": "markdown",
   "metadata": {},
   "source": [
    "At this point we combine the two datasets into one big matrix and build a label vector $y$"
   ]
  },
  {
   "cell_type": "code",
   "execution_count": 22,
   "metadata": {
    "ExecuteTime": {
     "end_time": "2018-11-27T15:07:03.895879Z",
     "start_time": "2018-11-27T15:07:03.832960Z"
    }
   },
   "outputs": [],
   "source": [
    "X = train_df[training_features]\n",
    "y = np.concatenate([np.ones(len(gammas)), np.zeros(len(protons))])"
   ]
  },
  {
   "cell_type": "code",
   "execution_count": 23,
   "metadata": {
    "ExecuteTime": {
     "end_time": "2018-11-27T15:07:03.983514Z",
     "start_time": "2018-11-27T15:07:03.898708Z"
    }
   },
   "outputs": [],
   "source": [
    "from sklearn.model_selection import train_test_split\n",
    "\n",
    "X_test, X_train, y_test, y_train = train_test_split(X, y)"
   ]
  },
  {
   "cell_type": "markdown",
   "metadata": {},
   "source": [
    "### Train the classifier\n",
    "\n",
    "Now we can train any classifier we want on the prepared data."
   ]
  },
  {
   "cell_type": "code",
   "execution_count": 37,
   "metadata": {
    "ExecuteTime": {
     "end_time": "2018-11-27T15:13:04.181685Z",
     "start_time": "2018-11-27T15:13:02.875532Z"
    }
   },
   "outputs": [
    {
     "name": "stdout",
     "output_type": "stream",
     "text": [
      "Random Forest 0.8427526496492014\n"
     ]
    }
   ],
   "source": [
    "import numpy as np\n",
    "import matplotlib.pyplot as plt\n",
    "from matplotlib.colors import ListedColormap\n",
    "from sklearn.model_selection import train_test_split\n",
    "from sklearn.preprocessing import StandardScaler\n",
    "from sklearn.datasets import make_moons, make_circles, make_classification\n",
    "from sklearn.neural_network import MLPClassifier\n",
    "from sklearn.neighbors import KNeighborsClassifier\n",
    "from sklearn.svm import SVC\n",
    "from sklearn.gaussian_process import GaussianProcessClassifier\n",
    "from sklearn.gaussian_process.kernels import RBF\n",
    "from sklearn.tree import DecisionTreeClassifier\n",
    "from sklearn.ensemble import RandomForestClassifier, AdaBoostClassifier\n",
    "from sklearn.naive_bayes import GaussianNB\n",
    "from sklearn.discriminant_analysis import QuadraticDiscriminantAnalysis\n",
    "from sklearn.inspection import DecisionBoundaryDisplay\n",
    "\n",
    "names = [\n",
    "    # \"Nearest Neighbors\",\n",
    "    # \"Linear SVM\",\n",
    "    # \"RBF SVM\",\n",
    "    # \"Gaussian Process\",\n",
    "    # \"Decision Tree\",\n",
    "    \"Random Forest\",\n",
    "    # \"Neural Net\",\n",
    "    # \"AdaBoost\",\n",
    "    # \"Naive Bayes\",\n",
    "    # \"QDA\",\n",
    "]\n",
    "\n",
    "classifiers = [\n",
    "    # SVC(kernel=\"linear\", C=0.025),\n",
    "    # SVC(gamma=2, C=1),\n",
    "    # GaussianProcessClassifier(1.0 * RBF(1.0)),\n",
    "    # DecisionTreeClassifier(max_depth=5),\n",
    "    RandomForestClassifier(n_estimators=200,  max_depth=25, criterion='entropy'),\n",
    "    # MLPClassifier(alpha=1, max_iter=100),\n",
    "    # AdaBoostClassifier(),\n",
    "    # GaussianNB(),\n",
    "    # QuadraticDiscriminantAnalysis(),\n",
    "]\n",
    "\n",
    "for name, clf in zip(names, classifiers):\n",
    "    clf.fit(X_train, y_train)\n",
    "    score = clf.score(X_test, y_test)\n",
    "    print(name,score)\n",
    "    \n",
    "rfc = classifiers[0]"
   ]
  },
  {
   "cell_type": "code",
   "execution_count": null,
   "metadata": {},
   "outputs": [],
   "source": [
    "# Random Forest 0.8396924914166294\n",
    "# Neural Net 0.7445141065830722\n",
    "# AdaBoost 0.7948947604120018\n",
    "# Naive Bayes 0.49791013584117033\n",
    "# QDA 0.5668308702791461"
   ]
  },
  {
   "cell_type": "markdown",
   "metadata": {},
   "source": [
    "1. Train the `DecisionTreeClassifier`\n",
    "2. This time get the prediction **proba** on the test dataset"
   ]
  },
  {
   "cell_type": "markdown",
   "metadata": {},
   "source": [
    "### Classifier Evaluation \n",
    "\n",
    "Check accuracy of the models and other metrics "
   ]
  },
  {
   "cell_type": "code",
   "execution_count": 38,
   "metadata": {},
   "outputs": [
    {
     "data": {
      "image/png": "[encoded data removed]",
      "text/plain": [
       "<Figure size 432x288 with 1 Axes>"
      ]
     },
     "metadata": {
      "needs_background": "light"
     },
     "output_type": "display_data"
    }
   ],
   "source": [
    "\n",
    "importance = pd.Series(rfc.feature_importances_, index=training_features)\n",
    "\n",
    "\n",
    "\n",
    "plt.figure()\n",
    "importance.sort_values().tail(20).plot.barh()\n",
    "plt.tight_layout()"
   ]
  },
  {
   "cell_type": "code",
   "execution_count": 41,
   "metadata": {},
   "outputs": [
    {
     "data": {
      "text/plain": [
       "array([1., 0., 1., ..., 0., 1., 1.])"
      ]
     },
     "execution_count": 41,
     "metadata": {},
     "output_type": "execute_result"
    }
   ],
   "source": [
    "y_test"
   ]
  },
  {
   "cell_type": "code",
   "execution_count": 47,
   "metadata": {
    "ExecuteTime": {
     "end_time": "2018-11-27T15:13:04.199205Z",
     "start_time": "2018-11-27T15:13:04.183884Z"
    }
   },
   "outputs": [
    {
     "name": "stdout",
     "output_type": "stream",
     "text": [
      "0.8427526496492014\n",
      "0.842308848387691\n"
     ]
    }
   ],
   "source": [
    "from sklearn.metrics import accuracy_score, roc_curve, roc_auc_score\n",
    "y_pred = rfc.predict(X_test)\n",
    "acc = accuracy_score(y_test,y_pred)\n",
    "print(acc)\n",
    "auc = roc_auc_score(y_test,y_pred)\n",
    "print(auc)\n",
    "fpr, tpr, thresholds = roc_curve(y_test, rfc.predict_proba(X_test)[:,1])\n"
   ]
  },
  {
   "cell_type": "code",
   "execution_count": 48,
   "metadata": {
    "ExecuteTime": {
     "end_time": "2018-11-27T15:13:46.845086Z",
     "start_time": "2018-11-27T15:13:46.501506Z"
    }
   },
   "outputs": [
    {
     "data": {
      "image/png": "[encoded data removed]",
      "text/plain": [
       "<Figure size 432x288 with 2 Axes>"
      ]
     },
     "metadata": {
      "needs_background": "light"
     },
     "output_type": "display_data"
    }
   ],
   "source": [
    "\n",
    "plt.figure()\n",
    "plt.scatter(fpr, tpr, c=thresholds, vmax=1)\n",
    "plt.xlabel('FPR')\n",
    "plt.ylabel('TPR')\n",
    "plt.gca().set_aspect(1)\n",
    "plt.plot(fpr, tpr, '--', color='gray', alpha=0.5)\n",
    "plt.text(0.5, 0.5, f'AuC ROC: {auc:0.03f} \\nAccuracy: {acc:0.03f}')\n",
    "plt.colorbar()\n",
    "None"
   ]
  },
  {
   "cell_type": "markdown",
   "metadata": {},
   "source": [
    "## 8. Redo, using cross-validation"
   ]
  },
  {
   "cell_type": "code",
   "execution_count": null,
   "metadata": {},
   "outputs": [],
   "source": []
  },
  {
   "cell_type": "code",
   "execution_count": null,
   "metadata": {},
   "outputs": [],
   "source": []
  },
  {
   "cell_type": "code",
   "execution_count": null,
   "metadata": {},
   "outputs": [],
   "source": []
  },
  {
   "cell_type": "markdown",
   "metadata": {},
   "source": [
    "## 9. Apply your best model to the test dataset"
   ]
  },
  {
   "cell_type": "code",
   "execution_count": null,
   "metadata": {},
   "outputs": [],
   "source": [
    "test_df = pd.read_hdf(test_filename)"
   ]
  },
  {
   "cell_type": "code",
   "execution_count": null,
   "metadata": {},
   "outputs": [],
   "source": []
  },
  {
   "cell_type": "code",
   "execution_count": null,
   "metadata": {},
   "outputs": [],
   "source": []
  },
  {
   "cell_type": "code",
   "execution_count": null,
   "metadata": {},
   "outputs": [],
   "source": [
    "test_df['reco_energy'] = ##\n",
    "test_df['reco_type'] = ##"
   ]
  },
  {
   "cell_type": "code",
   "execution_count": null,
   "metadata": {},
   "outputs": [],
   "source": []
  },
  {
   "cell_type": "code",
   "execution_count": null,
   "metadata": {},
   "outputs": [],
   "source": [
    "ml.save_prediction(test_df, yourname)"
   ]
  },
  {
   "cell_type": "markdown",
   "metadata": {},
   "source": [
    "### ⏱ SEND IT ⏱ "
   ]
  },
  {
   "cell_type": "code",
   "execution_count": null,
   "metadata": {},
   "outputs": [],
   "source": []
  },
  {
   "cell_type": "code",
   "execution_count": null,
   "metadata": {},
   "outputs": [],
   "source": []
  },
  {
   "cell_type": "code",
   "execution_count": null,
   "metadata": {},
   "outputs": [],
   "source": []
  },
  {
   "cell_type": "markdown",
   "metadata": {},
   "source": [
    "## 10. Physics\n",
    "\n",
    "Now we could test our model and our hypothesis on real observed data. This part of the analysis is the most time \n",
    "consuming in general. It also requires more data than than this notebook can handle. \n",
    "After careful analysis one can produce an image of the gamma-ray sky\n",
    "\n",
    "<img width=\"60%\" src=\"https://www.mpi-hd.mpg.de/hfm/HESS/hgps/figures/HESS_J1813m126.png\">"
   ]
  },
  {
   "cell_type": "code",
   "execution_count": null,
   "metadata": {},
   "outputs": [],
   "source": []
  },
  {
   "cell_type": "code",
   "execution_count": null,
   "metadata": {},
   "outputs": [],
   "source": []
  },
  {
   "cell_type": "code",
   "execution_count": null,
   "metadata": {},
   "outputs": [],
   "source": []
  },
  {
   "cell_type": "markdown",
   "metadata": {},
   "source": [
    "## 10. Extra: Improving Classification\n",
    "\n",
    "\n",
    "### Boosting and AdaBoost\n",
    "\n",
    "Similar to the idea of combining many classifiers through bagging (like we did for the RandomForests) we now \n",
    "train many estimators in a sequential manner. In each iteration the data gets modified slightly using weights $w$\n",
    "for each sample in the training data. In the first iteration the weights are all set to $w=1$\n",
    "\n",
    "In each successive iteration the weights are updated. The samples that were incorrectly classified in the previous \n",
    "iteration get a higher weight. The weights for correctly classified samples get decreases. \n",
    "In other words: We increase the influence/importance of samples that are difficult to classify.\n",
    "\n",
    "Predictions are performed by taking a weighted average of the single predictors.\n",
    "\n",
    "The popular AdaBoost algorithms takes this a step further by optimizing the weight of each separate classifier \n",
    "in the ensemble.\n",
    "The AdaBoost ensemble combines many learners in an iterative way. The learner at iteration $m$ is:\n",
    "\n",
    "$$\n",
    " F_{m}(x)=F_{m-1}(x)+\\gamma _{m}h_{m}(x)\n",
    "$$\n",
    "\n",
    "The choice of $F_0$ is problem specific.\n",
    "\n",
    "Each weak learner produces a prediction $h(x_{m})$ for each sample in the training set. At each iteration $m$ a \n",
    "weak learner is fitted and assigned a coefficient $\\gamma_{m}$ which is found by minimizing:\n",
    "\n",
    "$$\n",
    "\\gamma_m = {\\underset {\\gamma }{\\arg \\min }} \\sum_{i}^{N}E\\bigl(F_{m-1}(x_{i})+\\gamma h(x_{i})\\bigr)\n",
    "$$\n",
    "\n",
    "where $E(F)$ is some error function and $x_i$ is the reweighted data sample.\n",
    "\n",
    "In general this method can work with any classifying method. Traditionally it is being used with very small \n",
    "decision trees. \n",
    "The weights get used to select the split points during the minimization of the loss function in each node\n",
    "\n",
    "$$\n",
    " \\underset{(X, s) \\in \\, \\mathbf{X} \\times {S}}{\\arg \\max} IG(X,Y) =   \\underset{(X, s) \\in \\, \\mathbf{X} \\times {S}}{\\arg \\max} ( H(Y) - H(Y |\\, X) ).\n",
    "$$\n",
    "\n",
    "Below we try AdaBoost on the CTA data.\n"
   ]
  },
  {
   "cell_type": "code",
   "execution_count": null,
   "metadata": {
    "ExecuteTime": {
     "end_time": "2018-11-27T15:49:09.247110Z",
     "start_time": "2018-11-27T15:48:58.872812Z"
    }
   },
   "outputs": [],
   "source": [
    "from sklearn.ensemble import AdaBoostClassifier\n",
    "\n",
    "ada = AdaBoostClassifier(\n",
    "    base_estimator=DecisionTreeClassifier(max_depth=2),\n",
    "    n_estimators=100,\n",
    "    learning_rate=0.5,\n",
    ")\n",
    "ada.fit(X_train, y_train)\n",
    "\n",
    "y_prediction = ada.predict(X_test)\n",
    "y_prediction_proba = ada.predict_proba(X_test)"
   ]
  },
  {
   "cell_type": "code",
   "execution_count": null,
   "metadata": {
    "ExecuteTime": {
     "end_time": "2018-11-27T15:49:10.072785Z",
     "start_time": "2018-11-27T15:49:09.249195Z"
    }
   },
   "outputs": [],
   "source": [
    "scores = np.array(list(ada.staged_score(X_test, y_test)))\n",
    "\n",
    "plt.figure()\n",
    "plt.plot(scores, '.')\n",
    "plt.ylabel('Accuracy')\n",
    "plt.xlabel('Iteration')\n",
    "None"
   ]
  },
  {
   "cell_type": "code",
   "execution_count": null,
   "metadata": {
    "ExecuteTime": {
     "end_time": "2018-11-27T15:49:10.727863Z",
     "start_time": "2018-11-27T15:49:10.075262Z"
    }
   },
   "outputs": [],
   "source": [
    "acc = accuracy_score(y_test, y_prediction)\n",
    "auc = roc_auc_score(y_test, y_prediction_proba[:, 1])\n",
    "fpr, tpr, thresholds = roc_curve(y_test, y_prediction_proba[:, 1])\n",
    "\n",
    "plt.figure()\n",
    "plt.scatter(fpr, tpr, c=thresholds)\n",
    "plt.plot(fpr, tpr, '--', color='gray', alpha=0.5)\n",
    "plt.text(0.5, 0.5, f'AuC ROC: {auc:0.03f} \\nAccuracy: {acc:0.03f}')\n",
    "None"
   ]
  },
  {
   "cell_type": "markdown",
   "metadata": {},
   "source": [
    "### Gradient Boosting \n",
    "\n",
    "Very similar to AdaBoost. Only this time we change the target label we train the classifiers for.\n",
    "\n",
    "Formulate the general problem as follows (See Wikipedia):\n",
    "\n",
    "Starts with a constant function $F_{0}(x)$ and some differentiable loss function $L$ and incrementally expands it in a greedy fashion:\n",
    "\n",
    "$$\n",
    "F_{0}(x)={\\underset {\\gamma }{\\arg \\min }}{\\sum _{i=1}^{n}{L(y_{i},\\gamma )}}\n",
    "$$\n",
    "\n",
    "$$\n",
    "F_{m}(x)=F_{m-1}(x)+{\\underset {h_{m}\\in {\\mathcal {H}}}{\\operatorname {arg\\,min} }}\\left[{\\sum _{i=1}^{n}{L(y_{i},F_{m-1}(x_{i})+h_{m}(x_{i}))}}\\right]\n",
    "$$\n",
    "\n",
    "Finding the best $ h_{m}\\in {\\mathcal {H}}$ is computationally speaking impossible.\n",
    "If we could find the perfect $h$ however, we know that \n",
    "\n",
    "$$\n",
    "F_{m+1}(x_i)=F_{m}(x_i)+h(x_i)=y_i\n",
    "$$\n",
    "\n",
    "or, equivalently, \n",
    "\n",
    "$$\n",
    "   h(x_i)= y_i - F_{m}(x_i)\n",
    "$$\n",
    "\n",
    "Note that for the mean squared error loss $\\frac{1}{2}(y_i - F(x_i))^2$ this is equivalent to the negative \n",
    "gradient with respect to $F_i$.\n",
    "\n",
    "For a general loss function we fit $h_{m}(x)$ to the residuals, or negative gradients \n",
    "$$\n",
    " r_{i, m}=-\\left[{\\frac {\\partial L(y_{i},F(x_{i}))}{\\partial F(x_{i})}}\\right]_{F(x)=F_{m-1}(x)}\\quad {\\mbox{for }}i=1,\\ldots ,n.\n",
    "$$\n",
    "\n",
    "\n",
    "\n",
    "Below we try it on CTA data again.\n"
   ]
  },
  {
   "cell_type": "code",
   "execution_count": null,
   "metadata": {
    "ExecuteTime": {
     "end_time": "2018-11-27T16:56:38.715276Z",
     "start_time": "2018-11-27T16:56:29.657159Z"
    }
   },
   "outputs": [],
   "source": [
    "from sklearn.ensemble import GradientBoostingClassifier\n",
    "\n",
    "grb = GradientBoostingClassifier(\n",
    "    verbose=True,\n",
    "    n_estimators=300,\n",
    ")\n",
    "grb.fit(X_train, y_train)\n",
    "\n",
    "y_prediction = grb.predict(X_test)\n",
    "y_prediction_proba = grb.predict_proba(X_test)"
   ]
  },
  {
   "cell_type": "code",
   "execution_count": null,
   "metadata": {
    "ExecuteTime": {
     "end_time": "2018-11-27T16:56:39.343691Z",
     "start_time": "2018-11-27T16:56:38.718176Z"
    }
   },
   "outputs": [],
   "source": [
    "l = [accuracy_score(y_pred, y_test) for y_pred in grb.staged_predict(X_test)]\n",
    "\n",
    "plt.figure()\n",
    "plt.plot(range(len(l)), l, '.')\n",
    "plt.ylabel('Accuracy')\n",
    "plt.xlabel('Iteration')\n",
    "None"
   ]
  },
  {
   "cell_type": "code",
   "execution_count": null,
   "metadata": {
    "ExecuteTime": {
     "end_time": "2018-11-27T16:56:40.215880Z",
     "start_time": "2018-11-27T16:56:39.346460Z"
    }
   },
   "outputs": [],
   "source": [
    "acc = accuracy_score(y_test, y_prediction)\n",
    "auc = roc_auc_score(y_test, y_prediction_proba[:, 1])\n",
    "fpr, tpr, thresholds = roc_curve(y_test, y_prediction_proba[:, 1])\n",
    "\n",
    "plt.figure()\n",
    "plt.scatter(fpr, tpr, c=thresholds)\n",
    "plt.plot(fpr, tpr, '--', color='gray', alpha=0.5)\n",
    "plt.text(0.5, 0.5, f'AuC ROC: {auc:0.03f} \\nAccuracy: {acc:0.03f}')\n",
    "None"
   ]
  },
  {
   "cell_type": "markdown",
   "metadata": {},
   "source": [
    "More on gradient descent algorithms can be found in the Neural Network lecture.\n",
    "\n",
    "Let's now test our all time favorite classifier. "
   ]
  },
  {
   "cell_type": "code",
   "execution_count": null,
   "metadata": {
    "ExecuteTime": {
     "end_time": "2018-11-27T16:58:57.873659Z",
     "start_time": "2018-11-27T16:58:45.510336Z"
    }
   },
   "outputs": [],
   "source": [
    "from sklearn.ensemble import RandomForestClassifier\n",
    "\n",
    "rf = RandomForestClassifier(n_estimators=150,  max_depth=18, criterion='entropy')\n",
    "rf.fit(X_train, y_train)\n",
    "\n",
    "y_prediction = rf.predict(X_test)\n",
    "y_prediction_proba = rf.predict_proba(X_test)"
   ]
  },
  {
   "cell_type": "code",
   "execution_count": null,
   "metadata": {
    "ExecuteTime": {
     "end_time": "2018-11-27T16:58:58.442111Z",
     "start_time": "2018-11-27T16:58:57.875736Z"
    }
   },
   "outputs": [],
   "source": [
    "acc = accuracy_score(y_test, y_prediction)\n",
    "auc = roc_auc_score(y_test, y_prediction_proba[:, 1])\n",
    "fpr, tpr, thresholds = roc_curve(y_test, y_prediction_proba[:, 1])\n",
    "\n",
    "plt.figure()\n",
    "plt.scatter(fpr, tpr, c=thresholds)\n",
    "plt.plot(fpr, tpr, '--', color='gray', alpha=0.5)\n",
    "plt.text(0.5, 0.5, f'AuC ROC: {auc:0.03f} \\nAccuracy: {acc:0.03f}')\n",
    "None"
   ]
  },
  {
   "cell_type": "code",
   "execution_count": null,
   "metadata": {},
   "outputs": [],
   "source": []
  },
  {
   "cell_type": "code",
   "execution_count": null,
   "metadata": {},
   "outputs": [],
   "source": []
  }
 ],
 "metadata": {
  "execution": {
   "allow_errors": true,
   "timeout": 300
  },
  "kernelspec": {
   "display_name": "Python 3 (ipykernel)",
   "language": "python",
   "name": "python3"
  },
  "language_info": {
   "codemirror_mode": {
    "name": "ipython",
    "version": 3
   },
   "file_extension": ".py",
   "mimetype": "text/x-python",
   "name": "python",
   "nbconvert_exporter": "python",
   "pygments_lexer": "ipython3",
   "version": "3.10.5"
  }
 },
 "nbformat": 4,
 "nbformat_minor": 4
}
